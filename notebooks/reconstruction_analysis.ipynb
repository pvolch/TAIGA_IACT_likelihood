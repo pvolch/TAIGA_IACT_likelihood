{
 "cells": [
  {
   "cell_type": "markdown",
   "metadata": {},
   "source": [
    "# TAIGA IACT reconstruction analysis\n",
    "\n",
    "This notebook evaluates the likelihood-based reconstruction by comparing\n",
    "the recovered shower parameters with the ground truth values provided in\n",
    "the TAIGA test sample.  Before executing the cells ensure that\n",
    "`run_reconstruction_from_config` has been called once so that the\n",
    "likelihood model cached at `model_path` exists.  The configuration file\n",
    "controls which template and test events are processed, making it easy to\n",
    "trade accuracy for runtime when exploring larger datasets.\n"
   ]
  },
  {
   "cell_type": "code",
   "execution_count": null,
   "metadata": {},
   "outputs": [],
   "source": [
    "from pathlib import Path\n",
    "import random\n",
    "\n",
    "import numpy as np\n",
    "import pandas as pd\n",
    "import matplotlib.pyplot as plt\n",
    "\n",
    "from TAIGA_IACT_likelihood import (\n",
    "    TAIGADataset,\n",
    "    load_configuration,\n",
    "    load_model_package,\n",
    "    reconstruct_dataset,\n",
    ")\n"
   ]
  },
  {
   "cell_type": "code",
   "execution_count": null,
   "metadata": {},
   "outputs": [],
   "source": [
    "CONFIG_PATH = Path('config/reconstruction_config.json')\n",
    "config = load_configuration(CONFIG_PATH)\n",
    "model_path = Path(config['model_path']).expanduser().resolve()\n",
    "model, bounds = load_model_package(model_path)\n",
    "\n",
    "def matching_csv_path(txt_path: Path) -> Path:\n",
    "    name = txt_path.name.replace('_clean_', '_hillas_')\n",
    "    stem, _ = name.rsplit('.', 1)\n",
    "    return txt_path.with_name(f\"{stem}.csv\")\n",
    "\n",
    "test_txt = Path(config['test_txt_file']).expanduser().resolve()\n",
    "test_csv = matching_csv_path(test_txt)\n",
    "test_dataset = TAIGADataset(test_txt, test_csv)\n",
    "\n",
    "seed = config.get('random_seed')\n",
    "rng = random.Random(seed) if seed is not None else random.Random()\n",
    "\n",
    "results = reconstruct_dataset(\n",
    "    model,\n",
    "    bounds,\n",
    "    test_dataset,\n",
    "    rng=rng,\n",
    "    n_samples=int(config.get('n_samples', 4096)),\n",
    "    refine_iterations=int(config.get('refine_iterations', 4)),\n",
    "    refine_radius=float(config.get('refine_radius', 0.1)),\n",
    "    limit=config.get('test_event_limit'),\n",
    ")\n",
    "results_df = pd.DataFrame(results)\n",
    "results_df.head()\n"
   ]
  },
  {
   "cell_type": "markdown",
   "metadata": {},
   "source": [
    "## Energy reconstruction accuracy\n",
    "\n",
    "We bin the true shower energy into ten logarithmic intervals between\n",
    "20 and 200 TeV and report the average fractional error (in percent)\n",
    "within each bin."
   ]
  },
  {
   "cell_type": "code",
   "execution_count": null,
   "metadata": {},
   "outputs": [],
   "source": [
    "energy_true = results_df['energy_true'].to_numpy()\n",
    "energy_est = results_df['energy_est'].to_numpy()\n",
    "energy_error_pct = 100.0 * np.abs(energy_est - energy_true) / energy_true\n",
    "\n",
    "bins = np.logspace(np.log10(20.0), np.log10(200.0), num=11)\n",
    "bin_indices = np.digitize(energy_true, bins) - 1\n",
    "bin_centers = np.sqrt(bins[:-1] * bins[1:])\n",
    "avg_error = []\n",
    "for idx in range(10):\n",
    "    mask = bin_indices == idx\n",
    "    if not np.any(mask):\n",
    "        avg_error.append(np.nan)\n",
    "    else:\n",
    "        avg_error.append(energy_error_pct[mask].mean())\n",
    "\n",
    "fig, ax = plt.subplots(figsize=(8, 4))\n",
    "ax.plot(bin_centers, avg_error, marker='o')\n",
    "ax.set_xscale('log')\n",
    "ax.set_xlabel('True energy [TeV]')\n",
    "ax.set_ylabel('Average |\u0394E| / E [%]')\n",
    "ax.set_title('Energy reconstruction accuracy by energy bin')\n",
    "ax.grid(True, which='both', ls=':')\n",
    "plt.show()"
   ]
  },
  {
   "cell_type": "markdown",
   "metadata": {},
   "source": [
    "## Axis and direction accuracy\n",
    "\n",
    "We inspect the ground impact position residual and the angular\n",
    "separation between reconstructed and true arrival directions."
   ]
  },
  {
   "cell_type": "code",
   "execution_count": null,
   "metadata": {},
   "outputs": [],
   "source": [
    "dx = results_df['x_ground_est'] - results_df['x_ground_true']\n",
    "dy = results_df['y_ground_est'] - results_df['y_ground_true']\n",
    "axis_error = np.sqrt(dx**2 + dy**2)\n",
    "\n",
    "def to_unit_vector(theta, phi):\n",
    "    sin_t = np.sin(theta)\n",
    "    return np.stack((sin_t * np.cos(phi), sin_t * np.sin(phi), np.cos(theta)), axis=-1)\n",
    "\n",
    "vec_true = to_unit_vector(results_df['source_tet_true'].to_numpy(), results_df['source_fi_true'].to_numpy())\n",
    "vec_est = to_unit_vector(results_df['source_tet_est'].to_numpy(), results_df['source_fi_est'].to_numpy())\n",
    "dot = np.einsum('ij,ij->i', vec_true, vec_est)\n",
    "dot = np.clip(dot, -1.0, 1.0)\n",
    "angular_error = np.degrees(np.arccos(dot))\n",
    "\n",
    "fig, (ax1, ax2) = plt.subplots(1, 2, figsize=(12, 4), sharex=True)\n",
    "ax1.scatter(results_df['energy_true'], axis_error, alpha=0.6)\n",
    "ax1.set_xscale('log')\n",
    "ax1.set_xlabel('True energy [TeV]')\n",
    "ax1.set_ylabel('Ground impact error [m]')\n",
    "ax1.set_title('Axis reconstruction error')\n",
    "ax1.grid(True, which='both', ls=':')\n",
    "\n",
    "ax2.scatter(results_df['energy_true'], angular_error, alpha=0.6, color='C1')\n",
    "ax2.set_xscale('log')\n",
    "ax2.set_xlabel('True energy [TeV]')\n",
    "ax2.set_ylabel('Angular separation [deg]')\n",
    "ax2.set_title('Arrival direction error')\n",
    "ax2.grid(True, which='both', ls=':')\n",
    "plt.tight_layout()\n",
    "plt.show()"
   ]
  }
 ],
 "metadata": {
  "kernelspec": {
   "display_name": "Python 3",
   "language": "python",
   "name": "python3"
  },
  "language_info": {
   "codemirror_mode": {
    "name": "ipython",
    "version": 3
   },
   "file_extension": ".py",
   "mimetype": "text/x-python",
   "name": "python",
   "nbconvert_exporter": "python",
   "pygments_lexer": "ipython3",
   "version": "3.10"
  }
 },
 "nbformat": 4,
 "nbformat_minor": 5
}